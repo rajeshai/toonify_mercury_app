{
 "cells": [
  {
   "cell_type": "raw",
   "id": "c6be22eb",
   "metadata": {},
   "source": [
    "---\n",
    "title: Toonify your Pics\n",
    "description: Creates a cartoon version of your pic.\n",
    "show-code: False\n",
    "params:\n",
    "    image_path:\n",
    "        input: file\n",
    "        label: Please upload a photo\n",
    "---"
   ]
  },
  {
   "cell_type": "code",
   "execution_count": null,
   "id": "c4481a3c",
   "metadata": {},
   "outputs": [],
   "source": [
    "image_path = 'trump.jpg'\n",
    "output_dir = \"output_images\""
   ]
  },
  {
   "cell_type": "code",
   "execution_count": null,
   "id": "a8803760",
   "metadata": {},
   "outputs": [],
   "source": [
    "import os\n",
    "import torch\n",
    "from PIL import Image\n",
    "import warnings\n",
    "warnings.filterwarnings(\"ignore\")"
   ]
  },
  {
   "cell_type": "markdown",
   "id": "56e86849",
   "metadata": {},
   "source": [
    "## This is the Toonify app that creates a cartoon version of any image you upload. \n",
    "## Upload an image by clicking the 'Browse' button or by 'Drag & Drop' and click 'Run' to toonify your image.\n"
   ]
  },
  {
   "cell_type": "code",
   "execution_count": null,
   "id": "ddb89e68",
   "metadata": {},
   "outputs": [],
   "source": [
    "model = torch.hub.load(\"bryandlee/animegan2-pytorch:main\", \"generator\", pretrained=\"paprika\")\n",
    "face2paint = torch.hub.load(\"bryandlee/animegan2-pytorch:main\", \"face2paint\", size=512)"
   ]
  },
  {
   "cell_type": "code",
   "execution_count": null,
   "id": "43dccffa",
   "metadata": {},
   "outputs": [],
   "source": [
    "def toonify(img):\n",
    "    out = face2paint(model, img)\n",
    "    return out"
   ]
  },
  {
   "cell_type": "code",
   "execution_count": null,
   "id": "71e9255d",
   "metadata": {},
   "outputs": [],
   "source": [
    "im = Image.open(image_path)"
   ]
  },
  {
   "cell_type": "code",
   "execution_count": null,
   "id": "a31f4c2c",
   "metadata": {
    "scrolled": true
   },
   "outputs": [],
   "source": [
    "toonify(im)"
   ]
  },
  {
   "cell_type": "code",
   "execution_count": null,
   "id": "33c1461a",
   "metadata": {},
   "outputs": [],
   "source": [
    "#toonify(im).save(f\"{output_dir}/toonify.jpg\")\n",
    "#print(\"To download your toonified image, click the output files option at the top and click download\")"
   ]
  }
 ],
 "metadata": {
  "kernelspec": {
   "display_name": "Python 3 (ipykernel)",
   "language": "python",
   "name": "python3"
  },
  "language_info": {
   "codemirror_mode": {
    "name": "ipython",
    "version": 3
   },
   "file_extension": ".py",
   "mimetype": "text/x-python",
   "name": "python",
   "nbconvert_exporter": "python",
   "pygments_lexer": "ipython3",
   "version": "3.8.8"
  }
 },
 "nbformat": 4,
 "nbformat_minor": 5
}
