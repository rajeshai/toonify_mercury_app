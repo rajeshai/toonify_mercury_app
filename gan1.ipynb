{
 "cells": [
  {
   "cell_type": "raw",
   "id": "c6be22eb",
   "metadata": {},
   "source": [
    "---\n",
    "title: Toonify your Pics\n",
    "description: Creates a cartoon like image of your pic\n",
    "show-code: False\n",
    "params:\n",
    "    image_path:\n",
    "        input: file\n",
    "        label: Please upload a photo\n",
    "    output_dir:\n",
    "        output: dir\n",
    "---"
   ]
  },
  {
   "cell_type": "code",
   "execution_count": 1,
   "id": "c4481a3c",
   "metadata": {},
   "outputs": [],
   "source": [
    "image_path = 'trump.jpg'\n",
    "output_dir = \"output_images\""
   ]
  },
  {
   "cell_type": "code",
   "execution_count": null,
   "id": "a8803760",
   "metadata": {},
   "outputs": [],
   "source": [
    "import os\n",
    "import torch\n",
    "from PIL import Image"
   ]
  },
  {
   "cell_type": "code",
   "execution_count": null,
   "id": "43dccffa",
   "metadata": {},
   "outputs": [],
   "source": [
    "def toonify(img):\n",
    "    model = torch.hub.load(\"bryandlee/animegan2-pytorch:main\", \"generator\", pretrained=\"paprika\")\n",
    "    face2paint = torch.hub.load(\"bryandlee/animegan2-pytorch:main\", \"face2paint\", size=512)\n",
    "    out = face2paint(model, img)\n",
    "    return out"
   ]
  },
  {
   "cell_type": "code",
   "execution_count": null,
   "id": "71e9255d",
   "metadata": {},
   "outputs": [],
   "source": [
    "im = Image.open(image_path).convert(\"RGB\")"
   ]
  },
  {
   "cell_type": "code",
   "execution_count": null,
   "id": "a31f4c2c",
   "metadata": {},
   "outputs": [],
   "source": [
    "toonify(im)"
   ]
  },
  {
   "cell_type": "code",
   "execution_count": 2,
   "id": "8543ea45",
   "metadata": {},
   "outputs": [
    {
     "ename": "NameError",
     "evalue": "name 'toonify' is not defined",
     "output_type": "error",
     "traceback": [
      "\u001b[1;31m---------------------------------------------------------------------------\u001b[0m",
      "\u001b[1;31mNameError\u001b[0m                                 Traceback (most recent call last)",
      "\u001b[1;32m~\\AppData\\Local\\Temp/ipykernel_6980/4018310964.py\u001b[0m in \u001b[0;36m<module>\u001b[1;34m\u001b[0m\n\u001b[1;32m----> 1\u001b[1;33m \u001b[0mimage1\u001b[0m\u001b[1;33m=\u001b[0m\u001b[0mtoonify\u001b[0m\u001b[1;33m(\u001b[0m\u001b[0mim\u001b[0m\u001b[1;33m)\u001b[0m\u001b[1;33m\u001b[0m\u001b[1;33m\u001b[0m\u001b[0m\n\u001b[0m",
      "\u001b[1;31mNameError\u001b[0m: name 'toonify' is not defined"
     ]
    }
   ],
   "source": [
    "image1=toonify(im)"
   ]
  },
  {
   "cell_type": "code",
   "execution_count": 3,
   "id": "976efe80",
   "metadata": {},
   "outputs": [
    {
     "ename": "NameError",
     "evalue": "name 'os' is not defined",
     "output_type": "error",
     "traceback": [
      "\u001b[1;31m---------------------------------------------------------------------------\u001b[0m",
      "\u001b[1;31mNameError\u001b[0m                                 Traceback (most recent call last)",
      "\u001b[1;32m~\\AppData\\Local\\Temp/ipykernel_6980/2606488880.py\u001b[0m in \u001b[0;36m<module>\u001b[1;34m\u001b[0m\n\u001b[1;32m----> 1\u001b[1;33m \u001b[0mos\u001b[0m\u001b[1;33m.\u001b[0m\u001b[0mmkdir\u001b[0m\u001b[1;33m(\u001b[0m\u001b[0moutput_dir\u001b[0m\u001b[1;33m)\u001b[0m\u001b[1;33m\u001b[0m\u001b[1;33m\u001b[0m\u001b[0m\n\u001b[0m",
      "\u001b[1;31mNameError\u001b[0m: name 'os' is not defined"
     ]
    }
   ],
   "source": [
    "os.mkdir(output_dir)"
   ]
  },
  {
   "cell_type": "code",
   "execution_count": null,
   "id": "33c1461a",
   "metadata": {},
   "outputs": [],
   "source": [
    "image = Image1.save(f\"{output_dir}/toonify.jpg\")"
   ]
  },
  {
   "cell_type": "code",
   "execution_count": null,
   "id": "fe9127f9",
   "metadata": {},
   "outputs": [],
   "source": []
  }
 ],
 "metadata": {
  "kernelspec": {
   "display_name": "Python 3 (ipykernel)",
   "language": "python",
   "name": "python3"
  },
  "language_info": {
   "codemirror_mode": {
    "name": "ipython",
    "version": 3
   },
   "file_extension": ".py",
   "mimetype": "text/x-python",
   "name": "python",
   "nbconvert_exporter": "python",
   "pygments_lexer": "ipython3",
   "version": "3.8.8"
  }
 },
 "nbformat": 4,
 "nbformat_minor": 5
}
