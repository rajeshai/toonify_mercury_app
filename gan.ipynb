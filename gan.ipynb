{
 "cells": [
  {
   "cell_type": "raw",
   "id": "c6be22eb",
   "metadata": {},
   "source": [
    "---\n",
    "title: Toonify your Pics\n",
    "description: Creates a cartoon like image of your pic\n",
    "show-code: False\n",
    "params:\n",
    "    image_path:\n",
    "        input: file\n",
    "        label: Please upload a photo\n",
    "---"
   ]
  },
  {
   "cell_type": "code",
   "execution_count": null,
   "id": "c4481a3c",
   "metadata": {},
   "outputs": [],
   "source": [
    "image_path = 'trump.jpg'\n",
    "#output_dir = r\"output_images\""
   ]
  },
  {
   "cell_type": "code",
   "execution_count": null,
   "id": "a8803760",
   "metadata": {},
   "outputs": [],
   "source": [
    "import os\n",
    "import torch\n",
    "from PIL import Image"
   ]
  },
  {
   "cell_type": "code",
   "execution_count": null,
   "id": "43dccffa",
   "metadata": {},
   "outputs": [],
   "source": [
    "def toonify(img):\n",
    "    model = torch.hub.load(\"bryandlee/animegan2-pytorch:main\", \"generator\", pretrained=\"paprika\")\n",
    "    face2paint = torch.hub.load(\"bryandlee/animegan2-pytorch:main\", \"face2paint\", size=512)\n",
    "    out = face2paint(model, img)\n",
    "    return out"
   ]
  },
  {
   "cell_type": "code",
   "execution_count": null,
   "id": "71e9255d",
   "metadata": {},
   "outputs": [],
   "source": [
    "im = Image.open(image_path).convert(\"RGB\")"
   ]
  },
  {
   "cell_type": "code",
   "execution_count": null,
   "id": "a31f4c2c",
   "metadata": {},
   "outputs": [],
   "source": [
    "toonify(im)"
   ]
  },
  {
   "cell_type": "code",
   "execution_count": null,
   "id": "8543ea45",
   "metadata": {},
   "outputs": [],
   "source": [
    "#image1=toonify(im)"
   ]
  },
  {
   "cell_type": "code",
   "execution_count": null,
   "id": "33c1461a",
   "metadata": {},
   "outputs": [],
   "source": [
    "#os.mkdir(output_dir)\n",
    "#image = Image1.save(f\"{output_dir}/toonify.jpg\")"
   ]
  },
  {
   "cell_type": "code",
   "execution_count": null,
   "id": "fe9127f9",
   "metadata": {},
   "outputs": [],
   "source": []
  }
 ],
 "metadata": {
  "kernelspec": {
   "display_name": "Python 3 (ipykernel)",
   "language": "python",
   "name": "python3"
  },
  "language_info": {
   "codemirror_mode": {
    "name": "ipython",
    "version": 3
   },
   "file_extension": ".py",
   "mimetype": "text/x-python",
   "name": "python",
   "nbconvert_exporter": "python",
   "pygments_lexer": "ipython3",
   "version": "3.8.8"
  }
 },
 "nbformat": 4,
 "nbformat_minor": 5
}
