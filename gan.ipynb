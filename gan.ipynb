{
 "cells": [
  {
   "cell_type": "raw",
   "id": "4b0eb6c5",
   "metadata": {},
   "source": [
    "---\n",
    "title: Toonify your Pics\n",
    "description: Creates a cartoon like image of your pic\n",
    "show-code: False\n",
    "params:\n",
    "    image_path:\n",
    "        input: file\n",
    "        label: Please upload a photo\n",
    "---"
   ]
  },
  {
   "cell_type": "code",
   "execution_count": null,
   "id": "5b52e7e8",
   "metadata": {},
   "outputs": [],
   "source": [
    "#output_dir = r\"output_images\""
   ]
  },
  {
   "cell_type": "code",
   "execution_count": null,
   "id": "a8803760",
   "metadata": {},
   "outputs": [],
   "source": [
    "import os\n",
    "import torch\n",
    "from PIL import Image"
   ]
  },
  {
   "cell_type": "code",
   "execution_count": null,
   "id": "fc137a7c",
   "metadata": {},
   "outputs": [],
   "source": [
    "def toonify(img):\n",
    "    model = torch.hub.load(\"bryandlee/animegan2-pytorch:main\", \"generator\", pretrained=\"paprika\")\n",
    "    face2paint = torch.hub.load(\"bryandlee/animegan2-pytorch:main\", \"face2paint\", size=512)\n",
    "    out = face2paint(model, img)\n",
    "    return out"
   ]
  },
  {
   "cell_type": "code",
   "execution_count": null,
   "id": "71e9255d",
   "metadata": {},
   "outputs": [],
   "source": [
    "im = Image.open(image_path).convert(\"RGB\")"
   ]
  },
  {
   "cell_type": "code",
   "execution_count": null,
   "id": "93698def",
   "metadata": {},
   "outputs": [],
   "source": [
    "toonify(im)"
   ]
  },
  {
   "cell_type": "code",
   "execution_count": null,
   "id": "34a9716a",
   "metadata": {},
   "outputs": [],
   "source": [
    "#image1=toonify(im)"
   ]
  },
  {
   "cell_type": "code",
   "execution_count": null,
   "id": "ae638c52",
   "metadata": {},
   "outputs": [],
   "source": [
    "#os.mkdir(output_dir)\n",
    "#image = Image1.save(f\"{output_dir}/toonify.jpg\")"
   ]
  },
  {
   "cell_type": "code",
   "execution_count": null,
   "id": "c23bbaec",
   "metadata": {},
   "outputs": [],
   "source": []
  }
 ],
 "metadata": {
  "kernelspec": {
   "display_name": "Python 3 (ipykernel)",
   "language": "python",
   "name": "python3"
  },
  "language_info": {
   "codemirror_mode": {
    "name": "ipython",
    "version": 3
   },
   "file_extension": ".py",
   "mimetype": "text/x-python",
   "name": "python",
   "nbconvert_exporter": "python",
   "pygments_lexer": "ipython3",
   "version": "3.8.8"
  }
 },
 "nbformat": 4,
 "nbformat_minor": 5
}
